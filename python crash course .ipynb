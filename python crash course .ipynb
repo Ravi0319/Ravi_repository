{
 "cells": [
  {
   "cell_type": "markdown",
   "id": "aab3742f",
   "metadata": {},
   "source": [
    "# starting"
   ]
  },
  {
   "cell_type": "code",
   "execution_count": 2,
   "id": "fee66be7",
   "metadata": {},
   "outputs": [
    {
     "name": "stdout",
     "output_type": "stream",
     "text": [
      "hello python world\n"
     ]
    }
   ],
   "source": [
    "print('hello python world')"
   ]
  },
  {
   "cell_type": "code",
   "execution_count": 8,
   "id": "52adba35",
   "metadata": {},
   "outputs": [
    {
     "name": "stdout",
     "output_type": "stream",
     "text": [
      "hello dude\n"
     ]
    }
   ],
   "source": [
    "msg = 'hello dude'\n",
    "print(msg)\n",
    "msg = 'ta'\n"
   ]
  },
  {
   "cell_type": "code",
   "execution_count": 9,
   "id": "344cabe4",
   "metadata": {},
   "outputs": [
    {
     "name": "stdout",
     "output_type": "stream",
     "text": [
      "ta\n"
     ]
    }
   ],
   "source": [
    "print(msg)"
   ]
  },
  {
   "cell_type": "markdown",
   "id": "e0205da4",
   "metadata": {},
   "source": [
    "#  strings"
   ]
  },
  {
   "cell_type": "code",
   "execution_count": 11,
   "id": "6df04b40",
   "metadata": {},
   "outputs": [
    {
     "name": "stdout",
     "output_type": "stream",
     "text": [
      " this is intresting \" so keep eye on\".\n"
     ]
    }
   ],
   "source": [
    "print( ' this is intresting \" so keep eye on\".')"
   ]
  },
  {
   "cell_type": "code",
   "execution_count": 7,
   "id": "c31d28e1",
   "metadata": {},
   "outputs": [
    {
     "name": "stdout",
     "output_type": "stream",
     "text": [
      "bhoom 'dude'.\n"
     ]
    }
   ],
   "source": [
    "print( \"bhoom 'dude'.\")"
   ]
  },
  {
   "cell_type": "code",
   "execution_count": 10,
   "id": "2a6ec7fb",
   "metadata": {},
   "outputs": [
    {
     "name": "stdout",
     "output_type": "stream",
     "text": [
      "Aruna Ravi\n"
     ]
    }
   ],
   "source": [
    "name = 'aruna ravi'\n",
    "print(name.title())"
   ]
  },
  {
   "cell_type": "code",
   "execution_count": 11,
   "id": "a5be65a8",
   "metadata": {},
   "outputs": [
    {
     "name": "stdout",
     "output_type": "stream",
     "text": [
      "ARUNA RAVI\n",
      "aruna ravi\n"
     ]
    }
   ],
   "source": [
    "print(name.upper())\n",
    "print(name.lower())"
   ]
  },
  {
   "cell_type": "code",
   "execution_count": 14,
   "id": "1f5be6d9",
   "metadata": {},
   "outputs": [
    {
     "name": "stdout",
     "output_type": "stream",
     "text": [
      "Hello Raveendra Yarramreddy\n"
     ]
    }
   ],
   "source": [
    "first_name = 'raveendra'\n",
    "last_name = 'yarramreddy'\n",
    "full_name = f'{first_name} {last_name}'\n",
    "print(f'Hello {full_name.title()}')"
   ]
  },
  {
   "cell_type": "code",
   "execution_count": 16,
   "id": "0ec96fcc",
   "metadata": {},
   "outputs": [
    {
     "name": "stdout",
     "output_type": "stream",
     "text": [
      "RAVEENDRA\n"
     ]
    }
   ],
   "source": [
    "message = f'{first_name.upper()}'\n",
    "print(message)"
   ]
  },
  {
   "cell_type": "code",
   "execution_count": 1,
   "id": "7fe5ea20",
   "metadata": {},
   "outputs": [
    {
     "name": "stdout",
     "output_type": "stream",
     "text": [
      "python\n"
     ]
    }
   ],
   "source": [
    "print('python')"
   ]
  },
  {
   "cell_type": "code",
   "execution_count": 2,
   "id": "c7675c96",
   "metadata": {},
   "outputs": [
    {
     "name": "stdout",
     "output_type": "stream",
     "text": [
      "\tpython\n"
     ]
    }
   ],
   "source": [
    "print('\\tpython')"
   ]
  },
  {
   "cell_type": "code",
   "execution_count": 4,
   "id": "9f40b566",
   "metadata": {},
   "outputs": [
    {
     "name": "stdout",
     "output_type": "stream",
     "text": [
      "\travi\n",
      "\taruna\n"
     ]
    }
   ],
   "source": [
    "print('\\travi\\n\\taruna')"
   ]
  },
  {
   "cell_type": "code",
   "execution_count": 5,
   "id": "9d73f770",
   "metadata": {},
   "outputs": [],
   "source": [
    "fv_language = 'Aruna Dhevi  '"
   ]
  },
  {
   "cell_type": "code",
   "execution_count": 6,
   "id": "5c9bf5e2",
   "metadata": {},
   "outputs": [
    {
     "data": {
      "text/plain": [
       "'Aruna Dhevi  '"
      ]
     },
     "execution_count": 6,
     "metadata": {},
     "output_type": "execute_result"
    }
   ],
   "source": [
    "fv_language"
   ]
  },
  {
   "cell_type": "code",
   "execution_count": 11,
   "id": "eff4ed4a",
   "metadata": {},
   "outputs": [
    {
     "data": {
      "text/plain": [
       "'Aruna Dhevi'"
      ]
     },
     "execution_count": 11,
     "metadata": {},
     "output_type": "execute_result"
    }
   ],
   "source": [
    "s = fv_language.rstrip()\n",
    "s"
   ]
  },
  {
   "cell_type": "code",
   "execution_count": 12,
   "id": "e5667240",
   "metadata": {},
   "outputs": [
    {
     "data": {
      "text/plain": [
       "'Aruna Dhevi  '"
      ]
     },
     "execution_count": 12,
     "metadata": {},
     "output_type": "execute_result"
    }
   ],
   "source": [
    "fv_language"
   ]
  },
  {
   "cell_type": "code",
   "execution_count": 14,
   "id": "3b27494b",
   "metadata": {},
   "outputs": [
    {
     "data": {
      "text/plain": [
       "'Aruna Dhevi'"
      ]
     },
     "execution_count": 14,
     "metadata": {},
     "output_type": "execute_result"
    }
   ],
   "source": [
    "s"
   ]
  },
  {
   "cell_type": "code",
   "execution_count": 15,
   "id": "fd76dd5b",
   "metadata": {},
   "outputs": [
    {
     "data": {
      "text/plain": [
       "str"
      ]
     },
     "execution_count": 15,
     "metadata": {},
     "output_type": "execute_result"
    }
   ],
   "source": [
    "name = 'aruna is eating strawberry so i am going to eat milk'\n",
    "type(name)"
   ]
  },
  {
   "cell_type": "code",
   "execution_count": 16,
   "id": "29c3bd5b",
   "metadata": {},
   "outputs": [
    {
     "name": "stdout",
     "output_type": "stream",
     "text": [
      "aruna is eating strawberry so i am going to eat milk\n"
     ]
    }
   ],
   "source": [
    "print(name.)"
   ]
  },
  {
   "cell_type": "code",
   "execution_count": null,
   "id": "43e0e0ce",
   "metadata": {},
   "outputs": [],
   "source": []
  }
 ],
 "metadata": {
  "kernelspec": {
   "display_name": "Python 3 (ipykernel)",
   "language": "python",
   "name": "python3"
  },
  "language_info": {
   "codemirror_mode": {
    "name": "ipython",
    "version": 3
   },
   "file_extension": ".py",
   "mimetype": "text/x-python",
   "name": "python",
   "nbconvert_exporter": "python",
   "pygments_lexer": "ipython3",
   "version": "3.9.12"
  }
 },
 "nbformat": 4,
 "nbformat_minor": 5
}
